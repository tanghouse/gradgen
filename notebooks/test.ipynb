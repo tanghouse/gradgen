{
 "cells": [
  {
   "cell_type": "code",
   "execution_count": 1,
   "id": "fb1c8dbc",
   "metadata": {},
   "outputs": [],
   "source": [
    "PROMPT_TEMPLATE = \"\"\"You are a graphic designer...\n",
    "- Add a small header at top-left: “{university} — {level} Template”.\n",
    "...\n",
    "Return ONE PNG image only (the finished moodboard). No text in the response besides the single PNG output.\n",
    "\"\"\""
   ]
  },
  {
   "cell_type": "code",
   "execution_count": 2,
   "id": "439b1edb",
   "metadata": {},
   "outputs": [
    {
     "data": {
      "text/plain": [
       "'You are a graphic designer...\\n- Add a small header at top-left: “Aberdeen — BSc Template”.\\n...\\nReturn ONE PNG image only (the finished moodboard). No text in the response besides the single PNG output.\\n'"
      ]
     },
     "execution_count": 2,
     "metadata": {},
     "output_type": "execute_result"
    }
   ],
   "source": [
    "PROMPT_TEMPLATE.format(university=\"Aberdeen\", level=\"BSc\")"
   ]
  },
  {
   "cell_type": "code",
   "execution_count": null,
   "id": "ea0777e8",
   "metadata": {},
   "outputs": [],
   "source": []
  }
 ],
 "metadata": {
  "kernelspec": {
   "display_name": "tanghouse-S8DqrOLL-py3.13",
   "language": "python",
   "name": "python3"
  },
  "language_info": {
   "codemirror_mode": {
    "name": "ipython",
    "version": 3
   },
   "file_extension": ".py",
   "mimetype": "text/x-python",
   "name": "python",
   "nbconvert_exporter": "python",
   "pygments_lexer": "ipython3",
   "version": "3.13.2"
  }
 },
 "nbformat": 4,
 "nbformat_minor": 5
}
